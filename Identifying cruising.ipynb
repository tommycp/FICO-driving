{
 "cells": [
  {
   "cell_type": "code",
   "execution_count": null,
   "metadata": {
    "collapsed": true
   },
   "outputs": [],
   "source": [
    "import pandas as pd\n",
    "import numpy as np\n",
    "\n",
    "import matplotlib as mpl\n",
    "import matplotlib.pyplot as plt\n",
    "%matplotlib inline"
   ]
  },
  {
   "cell_type": "code",
   "execution_count": null,
   "metadata": {
    "collapsed": false
   },
   "outputs": [],
   "source": [
    "def dropna(x):\n",
    "    return list(filter(lambda x: x > -np.inf, x))\n",
    "\n",
    "path = '../data/VehicleID_152851_DriverID_22209/VehicleID_152851_DriverID_22209/File_ID_1'\n",
    "data = pd.read_csv(path, na_values=\" \")"
   ]
  },
  {
   "cell_type": "markdown",
   "metadata": {},
   "source": [
    "## To do:\n",
    "\n",
    "* Separate stops from cruising\n",
    "* Make this detection more flexible\n",
    "* Test on all other csvs\n",
    "    * COROLLARY: upload own csvs to github\n",
    "* Google API calls"
   ]
  },
  {
   "cell_type": "markdown",
   "metadata": {},
   "source": [
    "## Ideas\n",
    "\n",
    "### Known\n",
    "* Speed for both speed measurements provided are kph\n",
    "* Acceleration from GPS provided in gs (9.8 m/s^2)\n",
    "* Cruising can be defined as staying within a certain margin of your recent average speed.\n",
    "    * We will assume (but allow for adjustment on) a 5 kph margin in either direction\n",
    "    * Average will be taken over the last 10/100 datapoints for GPS and network speed respectively\n",
    "    * Will keep extra 10/100 datapoints at either end of the cruise, to look at interesting behavior\n",
    "\n",
    "\n",
    "### Columns to use\n",
    "\n",
    "* vtti.speed_gps\n",
    "* vtti.speed_network\n",
    "* vtti.pedal_brake_state\n",
    "* vtti.pedal_gas_state\n",
    "* vtti.engine_rpm\n",
    "* vtti.accel (\\_x, \\_y, \\_z)\n",
    "\n",
    "\n",
    "\n",
    "* **vtti.video_frame**\n",
    "    * Always necessary"
   ]
  },
  {
   "cell_type": "code",
   "execution_count": null,
   "metadata": {
    "collapsed": true
   },
   "outputs": [],
   "source": [
    "def get_rolling_average(series, n):\n",
    "    avgs = list()\n",
    "    for i in range(1, n+1):\n",
    "        avgs.append(np.mean(series[:i]))\n",
    "    for i in range(n, len(series)):\n",
    "        avgs.append(np.mean(series[i-n:i]))\n",
    "    return avgs\n",
    "\n",
    "def identify_cruising(series, n, margin, p=False, display=False):\n",
    "    averages = get_rolling_average(dropna(series), n)\n",
    "    \n",
    "    chunks = list()\n",
    "    curr_avg = -np.inf\n",
    "    curr_start = 0\n",
    "    curr_n = 0\n",
    "    \n",
    "    for i in range(len(averages)):\n",
    "        if averages[i] < curr_avg + margin and averages[i] > curr_avg - margin:\n",
    "            curr_avg = (curr_avg * (curr_n + 1) + averages[i]) / (curr_n + 2)\n",
    "            curr_n += 1\n",
    "        else:\n",
    "            if curr_n > n:\n",
    "                # Add the chunk, as it is significant\n",
    "                chunks.append(((curr_start, i), curr_avg))\n",
    "            curr_avg = averages[i]\n",
    "            curr_n = 0\n",
    "            curr_start = i\n",
    "    \n",
    "    if p: print_cruising_data(chunks)\n",
    "    if display: display_cruising_data(dropna(series), chunks)\n",
    "    \n",
    "    return chunks\n",
    "\n",
    "def print_cruising_data(cruising_data):\n",
    "    print(\"The following cruising segments were found:\")\n",
    "    for item in cruising_data:\n",
    "        print(\"\\tFrame {} to {}, with a mean speed of {:0.02f}kph\".format(item[0][0], item[0][1], item[1]))\n",
    "\n",
    "def display_cruising_data(series, chunks):\n",
    "    for chunk in chunks:\n",
    "        plt.plot(series[chunk[0][0]:chunk[0][1]])\n",
    "        plt.title('Speed by frame for identified cruising chunk')\n",
    "        plt.ylabel('kph')\n",
    "        plt.xlabel('frame')\n",
    "        plt.show()"
   ]
  },
  {
   "cell_type": "code",
   "execution_count": null,
   "metadata": {
    "collapsed": false,
    "scrolled": false
   },
   "outputs": [],
   "source": [
    "chunk_info = identify_cruising(data['vtti.speed_network'], 100, 2.5, True, True)"
   ]
  },
  {
   "cell_type": "code",
   "execution_count": null,
   "metadata": {
    "collapsed": false
   },
   "outputs": [],
   "source": [
    "plt.plot(dropna(data['vtti.speed_gps']))\n",
    "plt.title('Speed (GPS)')\n",
    "plt.show()"
   ]
  },
  {
   "cell_type": "code",
   "execution_count": null,
   "metadata": {
    "collapsed": false
   },
   "outputs": [],
   "source": [
    "plt.plot(dropna(data['vtti.speed_network']))\n",
    "plt.title('Speed (network)')\n",
    "plt.show()"
   ]
  },
  {
   "cell_type": "code",
   "execution_count": null,
   "metadata": {
    "collapsed": false
   },
   "outputs": [],
   "source": [
    "plt.plot(dropna(data['vtti.pedal_brake_state']))\n",
    "plt.title('Brake state')\n",
    "plt.show()"
   ]
  },
  {
   "cell_type": "code",
   "execution_count": null,
   "metadata": {
    "collapsed": false
   },
   "outputs": [],
   "source": [
    "plt.plot(dropna(data['vtti.pedal_gas_position']))\n",
    "plt.title('Gas pedal position')\n",
    "plt.show()"
   ]
  },
  {
   "cell_type": "code",
   "execution_count": null,
   "metadata": {
    "collapsed": false
   },
   "outputs": [],
   "source": [
    "plt.plot(dropna(data['vtti.engine_rpm_instant']))\n",
    "plt.title('Engine RPM')\n",
    "plt.show()"
   ]
  },
  {
   "cell_type": "code",
   "execution_count": null,
   "metadata": {
    "collapsed": false
   },
   "outputs": [],
   "source": [
    "accel_x = dropna(data['vtti.accel_x'])\n",
    "accel_y = dropna(data['vtti.accel_y']) \n",
    "accel_z = dropna(data['vtti.accel_z']) \n",
    "\n",
    "plt.plot(accel_x)\n",
    "plt.title('Acceleration in the X dimension')\n",
    "plt.show()\n",
    "\n",
    "plt.plot(accel_y)\n",
    "plt.title('Acceleration in the Y dimension')\n",
    "plt.show()\n",
    "\n",
    "plt.plot(accel_z)\n",
    "plt.title('Acceleration in the Z dimension')\n",
    "plt.show()"
   ]
  },
  {
   "cell_type": "code",
   "execution_count": null,
   "metadata": {
    "collapsed": false
   },
   "outputs": [],
   "source": [
    "accel = list()\n",
    "for i in range(len(accel_x)):\n",
    "    accel.append((accel_x[i] ** 2 + accel_y[i] ** 2)  ** .5)\n",
    "plt.plot(accel)\n",
    "plt.title('Acceleration magnitude in XY plane at each observation')\n",
    "plt.show()"
   ]
  },
  {
   "cell_type": "code",
   "execution_count": null,
   "metadata": {
    "collapsed": false
   },
   "outputs": [],
   "source": [
    "plt.plot(dropna((data['vtti.engine_rpm_instant'] - 400)/9000), alpha = 0.8)\n",
    "plt.plot(np.abs(dropna(data['vtti.accel_x'])), c='g', alpha = .3)\n",
    "plt.legend(['RPM', 'Acceleration in XY plane'])\n",
    "plt.title('RPM vs XY Acceleration')\n",
    "plt.show()"
   ]
  },
  {
   "cell_type": "code",
   "execution_count": null,
   "metadata": {
    "collapsed": true
   },
   "outputs": [],
   "source": []
  },
  {
   "cell_type": "code",
   "execution_count": null,
   "metadata": {
    "collapsed": true
   },
   "outputs": [],
   "source": []
  }
 ],
 "metadata": {
  "kernelspec": {
   "display_name": "Python 3",
   "language": "python",
   "name": "python3"
  },
  "language_info": {
   "codemirror_mode": {
    "name": "ipython",
    "version": 3
   },
   "file_extension": ".py",
   "mimetype": "text/x-python",
   "name": "python",
   "nbconvert_exporter": "python",
   "pygments_lexer": "ipython3",
   "version": "3.6.0"
  }
 },
 "nbformat": 4,
 "nbformat_minor": 2
}
