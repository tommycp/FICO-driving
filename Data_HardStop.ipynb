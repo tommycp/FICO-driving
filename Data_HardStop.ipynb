{
 "cells": [
  {
   "cell_type": "code",
   "execution_count": null,
   "metadata": {
    "collapsed": true
   },
   "outputs": [],
   "source": [
    "import pandas as pd\n",
    "import matplotlib.pyplot as plt\n",
    "%matplotlib inline\n",
    "import numpy as np"
   ]
  },
  {
   "cell_type": "code",
   "execution_count": null,
   "metadata": {},
   "outputs": [],
   "source": [
    "df1 = pd.read_csv(\"File_ID_2919.csv\")\n",
    "pd.set_option('display.max_rows', 200)"
   ]
  },
  {
   "cell_type": "code",
   "execution_count": null,
   "metadata": {},
   "outputs": [],
   "source": [
    "df.head()"
   ]
  },
  {
   "cell_type": "code",
   "execution_count": null,
   "metadata": {
    "collapsed": true
   },
   "outputs": [],
   "source": [
    "df = df1.replace(\" \",np.nan)"
   ]
  },
  {
   "cell_type": "code",
   "execution_count": null,
   "metadata": {
    "collapsed": true
   },
   "outputs": [],
   "source": [
    "for c in df.columns:\n",
    "    try:\n",
    "        df[c] = pd.to_numeric(df[c], errors = 'ignore', downcast = 'float')\n",
    "    except:\n",
    "        pass"
   ]
  },
  {
   "cell_type": "code",
   "execution_count": null,
   "metadata": {
    "collapsed": true
   },
   "outputs": [],
   "source": [
    "df=df.dropna(how='all',axis=1)\n",
    "for col in df.columns:\n",
    "    if len(df[col].dropna().unique()) <= 1:\n",
    "        df.drop(col,inplace=True,axis=1)"
   ]
  },
  {
   "cell_type": "code",
   "execution_count": null,
   "metadata": {
    "collapsed": true
   },
   "outputs": [],
   "source": [
    "uselessColumns = [\"TRACK6_Y_VEL_PROCESSED\",\n",
    "\"TRACK6_Y_POS_PROCESSED\",\n",
    "\"TRACK6_X_VEL_PROCESSED\",\n",
    "\"TRACK6_X_POS_PROCESSED\",\n",
    "\"TRACK6_X_ACC_ESTIMATED\",\n",
    "\"TRACK6_TARGET_TRAVEL_DIRECTION\",\n",
    "\"TRACK6_TARGET_ID\",\n",
    "\"TRACK6_LANE\",\n",
    "\"TRACK6_HEADWAY\",\n",
    "\"TRACK5_Y_VEL_PROCESSED\",\n",
    "\"TRACK5_Y_POS_PROCESSED\",\n",
    "\"TRACK5_X_VEL_PROCESSED\",\n",
    "\"TRACK5_X_POS_PROCESSED\",\n",
    "\"TRACK5_X_ACC_ESTIMATED\",\n",
    "\"TRACK5_TARGET_TRAVEL_DIRECTION\",\n",
    "\"TRACK5_TARGET_ID\",\n",
    "\"TRACK5_LANE\",\n",
    "\"TRACK5_HEADWAY\",\n",
    "\"TRACK4_Y_VEL_PROCESSED\",\n",
    "\"TRACK4_Y_POS_PROCESSED\",\n",
    "\"TRACK4_X_VEL_PROCESSED\",\n",
    "\"TRACK4_X_POS_PROCESSED\",\n",
    "\"TRACK4_X_ACC_ESTIMATED\",\n",
    "\"TRACK4_TARGET_TRAVEL_DIRECTION\",\n",
    "\"TRACK4_TARGET_ID\",\n",
    "\"TRACK4_LANE\",\n",
    "\"TRACK4_IS_LEAD_VEHICLE\",\n",
    "\"TRACK4_HEADWAY\",\n",
    "\"TRACK3_Y_VEL_PROCESSED\",\n",
    "\"TRACK3_Y_POS_PROCESSED\",\n",
    "\"TRACK3_X_VEL_PROCESSED\",\n",
    "\"TRACK3_X_POS_PROCESSED\",\n",
    "\"TRACK3_X_ACC_ESTIMATED\",\n",
    "\"TRACK3_TARGET_TRAVEL_DIRECTION\",\n",
    "\"TRACK3_TARGET_ID\",\n",
    "\"TRACK3_LANE\",\n",
    "\"TRACK3_IS_LEAD_VEHICLE\",\n",
    "\"TRACK3_HEADWAY\",\n",
    "\"TRACK2_Y_VEL_PROCESSED\",\n",
    "\"TRACK2_Y_POS_PROCESSED\",\n",
    "\"TRACK2_X_VEL_PROCESSED\",\n",
    "\"TRACK2_X_POS_PROCESSED\",\n",
    "\"TRACK2_X_ACC_ESTIMATED\",\n",
    "\"TRACK2_TARGET_TRAVEL_DIRECTION\",\n",
    "\"TRACK2_TARGET_ID\",\n",
    "\"TRACK2_LANE\",\n",
    "\"TRACK2_IS_LEAD_VEHICLE\",\n",
    "\"TRACK2_HEADWAY\",\n",
    "\"TRACK1_Y_VEL_PROCESSED\",\n",
    "\"TRACK1_Y_POS_PROCESSED\",\n",
    "\"TRACK1_X_VEL_PROCESSED\",\n",
    "\"TRACK1_X_POS_PROCESSED\",\n",
    "\"TRACK1_X_ACC_ESTIMATED\",\n",
    "\"TRACK1_TARGET_TRAVEL_DIRECTION\",\n",
    "\"TRACK1_TARGET_ID\",\n",
    "\"TRACK1_LANE\",\n",
    "\"TRACK1_IS_LEAD_VEHICLE\",\n",
    "\"TRACK1_HEADWAY\",\n",
    "\"vtti.head_rotation_z_baseline\",\n",
    "\"vtti.head_rotation_z\",\n",
    "\"vtti.head_rotation_y_baseline\",\n",
    "\"vtti.head_rotation_y\",\n",
    "\"vtti.head_rotation_x_baseline\",\n",
    "\"vtti.head_rotation_x\",\n",
    "\"vtti.head_position_z_baseline\",\n",
    "\"vtti.head_position_z\",\n",
    "\"vtti.head_position_y_baseline\",\n",
    "\"vtti.head_position_y\",\n",
    "\"vtti.head_position_x_baseline\",\n",
    "\"vtti.head_position_x\",\n",
    "\"vtti.head_confidence\",\n",
    "'vtti.latitude',\n",
    "'vtti.longitude',\n",
    "'vtti.odometer',\n",
    "'vtti.prndl',\n",
    "\"vtti.elevation_gps\",\n",
    "\"vtti.cruise_state\",\n",
    "\"vtti.alcohol_interior\",\n",
    "'vtti.number_of_satellites',\n",
    "\"vtti.temperature_interior\",\n",
    "\"vtti.lane_distance_off_center\",\n",
    "\"vtti.lane_width\",\n",
    "\"vtti.left_line_right_distance\",\n",
    "\"vtti.left_marker_probability\",\n",
    "\"vtti.left_marker_type\",\n",
    "\"vtti.light_level\",\n",
    "\"vtti.number_of_satellites\",\n",
    "\"vtti.right_line_left_distance\",\n",
    "\"vtti.right_marker_probability\",\n",
    "\"vtti.right_marker_type\",\n",
    "\"vtti.video_frame\",\n",
    "\"System.Time_Stamp\",\n",
    "\"vtti.steering_wheel_position\",\n",
    "\"vtti.pdop\",\n",
    "\"vtti.speed_gps\"]\n",
    "df = df.drop(uselessColumns, axis=1).dropna(how='all',axis = 0).dropna(how = 'all', axis = 1)"
   ]
  },
  {
   "cell_type": "code",
   "execution_count": null,
   "metadata": {
    "scrolled": true
   },
   "outputs": [],
   "source": [
    "df.dtypes"
   ]
  },
  {
   "cell_type": "code",
   "execution_count": null,
   "metadata": {
    "collapsed": true
   },
   "outputs": [],
   "source": [
    "def printUtil(v):\n",
    "    print(\"\\\"{}\\\",\".format(v))"
   ]
  },
  {
   "cell_type": "code",
   "execution_count": null,
   "metadata": {
    "scrolled": false
   },
   "outputs": [],
   "source": [
    "df.columns.sort_values(ascending = True).map(printUtil)"
   ]
  },
  {
   "cell_type": "code",
   "execution_count": null,
   "metadata": {
    "scrolled": false
   },
   "outputs": [],
   "source": [
    "df[(df['vtti.abs']>0)|((df['vtti.pedal_brake_state']>0) & (df['vtti.speed_network']<15))]"
   ]
  },
  {
   "cell_type": "code",
   "execution_count": null,
   "metadata": {},
   "outputs": [],
   "source": [
    "df[['vtti.abs','vtti.pedal_brake_state']].drop_duplicates()"
   ]
  },
  {
   "cell_type": "code",
   "execution_count": null,
   "metadata": {
    "scrolled": false
   },
   "outputs": [],
   "source": [
    "df[(df['vtti.timestamp']>194000)&(df['vtti.timestamp']<226000)]"
   ]
  },
  {
   "cell_type": "code",
   "execution_count": null,
   "metadata": {
    "collapsed": true
   },
   "outputs": [],
   "source": [
    "chunks = df[(df['vtti.abs']>0)|((df['vtti.pedal_brake_state']>0) & (df['vtti.speed_network']<30))]"
   ]
  },
  {
   "cell_type": "code",
   "execution_count": null,
   "metadata": {},
   "outputs": [],
   "source": [
    "chunks['startOfNewChunk']=chunks['vtti.timestamp']-chunks['vtti.timestamp'].shift()>1000"
   ]
  },
  {
   "cell_type": "code",
   "execution_count": null,
   "metadata": {
    "scrolled": false
   },
   "outputs": [],
   "source": [
    "chunks[chunks['startOfNewChunk']]"
   ]
  },
  {
   "cell_type": "code",
   "execution_count": null,
   "metadata": {
    "scrolled": false
   },
   "outputs": [],
   "source": [
    "runs=df[df['vtti.pedal_gas_position']-df['vtti.pedal_gas_position'].fillna(0).shift() > 0]\n",
    "runs['startOfNewChunk']=runs['vtti.timestamp']-runs['vtti.timestamp'].shift()>1000\n",
    "runs[runs['startOfNewChunk']]"
   ]
  }
 ],
 "metadata": {
  "kernelspec": {
   "display_name": "Python 3",
   "language": "python",
   "name": "python3"
  },
  "language_info": {
   "codemirror_mode": {
    "name": "ipython",
    "version": 3
   },
   "file_extension": ".py",
   "mimetype": "text/x-python",
   "name": "python",
   "nbconvert_exporter": "python",
   "pygments_lexer": "ipython3",
   "version": "3.6.3"
  }
 },
 "nbformat": 4,
 "nbformat_minor": 2
}
